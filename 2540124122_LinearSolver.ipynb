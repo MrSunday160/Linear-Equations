{
 "cells": [
  {
   "cell_type": "markdown",
   "metadata": {},
   "source": [
    "# Quiz 1"
   ]
  },
  {
   "cell_type": "markdown",
   "metadata": {},
   "source": [
    "## 2540124122 - Justin Thejasukmana\n",
    "e = 0.022\n",
    "t = 20"
   ]
  },
  {
   "cell_type": "code",
   "execution_count": 1,
   "metadata": {},
   "outputs": [],
   "source": [
    "import numpy as np\n",
    "import matplotlib.pyplot as plt"
   ]
  },
  {
   "cell_type": "code",
   "execution_count": 2,
   "metadata": {},
   "outputs": [],
   "source": [
    "Xs = [\n",
    "  [\n",
    "    [-12,-3,-1],\n",
    "    [-4,-9,-1],\n",
    "    [1,-2,-4]\n",
    "  ],\n",
    "  [\n",
    "    [19, -1, -1, 16],\n",
    "    [-1, -23, 3, -17],\n",
    "    [17, 22, 51, 10],\n",
    "   [2, 3, 7, 15]\n",
    "  ],\n",
    "  [\n",
    "    [-9, -15, -10, 3],\n",
    "    [-7, 20,8, 6],\n",
    "    [2, 33,11, 14],\n",
    "    [1, 1, -1, 5]\n",
    "  ],\n",
    "  [\n",
    "    [-4,-5,-1],\n",
    "    [9,9,5],\n",
    "    [-3,3,1]\n",
    "  ],\n",
    "  [\n",
    "    [15,2,3],\n",
    "    [4,13,2],\n",
    "    [1,-4,-9]\n",
    "  ],\n",
    "  \n",
    "]\n",
    "\n",
    "Ys=[\n",
    "   [13, 20, 39],\n",
    "   [4, 13, 4, 5],\n",
    "   [5, 5, 5, 5],\n",
    "   [3, 3, 3],\n",
    "   [4, 3, 4],\n",
    "]\n"
   ]
  },
  {
   "cell_type": "code",
   "execution_count": 3,
   "metadata": {},
   "outputs": [],
   "source": [
    "def checkDiag(input):\n",
    "\n",
    "    input = np.array(input)\n",
    "\n",
    "    diagonal = np.diag(np.abs(input))\n",
    "    rowSum = np.sum(np.abs(input), axis = 1) - diagonal\n",
    "\n",
    "    return np.all(rowSum < diagonal)\n"
   ]
  },
  {
   "cell_type": "code",
   "execution_count": 4,
   "metadata": {},
   "outputs": [],
   "source": [
    "def gaussSeidel(x, y, t = 20, e = 0.022):\n",
    "\n",
    "    x = np.array(x)\n",
    "    y = np.array(y)\n",
    "\n",
    "    diagonal = np.diag(np.array(x))\n",
    "    np.fill_diagonal(x, 0)\n",
    "\n",
    "    xBef = np.zeros(x.shape[0])\n",
    "    # print(xBef)\n",
    "\n",
    "    for num in range(t):\n",
    "\n",
    "        xNew = np.array(xBef)\n",
    "\n",
    "        for i, row in enumerate(x):\n",
    "\n",
    "            xNew[i] = (y[i] - np.dot(xNew, row)) / diagonal[i]\n",
    "\n",
    "        print(f\"iter:   {num + 1} {xNew}\")\n",
    "\n",
    "        distance = np.sqrt(np.dot(xNew - xBef, xNew - xBef))\n",
    "\n",
    "        if(distance < e):\n",
    "\n",
    "            print(\"convergen\\n\")\n",
    "            return\n",
    "        \n",
    "        xBef = xNew\n",
    "    \n",
    "    print(\"Not Convergen\\n\")\n"
   ]
  },
  {
   "cell_type": "code",
   "execution_count": 5,
   "metadata": {},
   "outputs": [
    {
     "name": "stdout",
     "output_type": "stream",
     "text": [
      "A: [[-12, -3, -1], [-4, -9, -1], [1, -2, -4]] y: [13, 20, 39]\n",
      "iter:   1 [-1.08333333 -1.74074074 -9.15046296]\n",
      "iter:   2 [ 0.11439043 -1.25634431 -9.09323024]\n",
      "iter:   3 [-0.01147807 -1.20676194 -9.14948855]\n",
      "iter:   4 [-0.01918547 -1.19708551 -9.15625361]\n",
      "convergen\n",
      "\n",
      "A: [[19, -1, -1, 16], [-1, -23, 3, -17], [17, 22, 51, 10], [2, 3, 7, 15]] y: [4, 13, 4, 5]\n",
      "iter:   1 [ 0.21052632 -0.57437071  0.25602369  0.30065958]\n",
      "iter:   2 [-0.0594158  -0.75146635  0.36344573  0.3219407 ]\n",
      "iter:   3 [-0.08100378 -0.75224569  0.36680515  0.32340724]\n",
      "convergen\n",
      "\n",
      "A: [[-9, -15, -10, 3], [-7, 20, 8, 6], [2, 33, 11, 14], [1, 1, -1, 5]] y: [5, 5, 5, 5]\n",
      "Not Diagonally Dominant\n",
      "\n",
      "A: [[-4, -5, -1], [9, 9, 5], [-3, 3, 1]] y: [3, 3, 3]\n",
      "Not Diagonally Dominant\n",
      "\n",
      "A: [[15, 2, 3], [4, 13, 2], [1, -4, -9]] y: [4, 3, 4]\n",
      "iter:   1 [ 0.26666667  0.14871795 -0.48091168]\n",
      "iter:   2 [ 0.34301994  0.19921105 -0.49486936]\n",
      "iter:   3 [ 0.33907907  0.20257096 -0.49680053]\n",
      "convergen\n",
      "\n"
     ]
    }
   ],
   "source": [
    "for A, y in zip(Xs, Ys):\n",
    "\n",
    "    print(f\"A: {A} y: {y}\")\n",
    "\n",
    "    if(checkDiag(A)):\n",
    "\n",
    "        # print(\"Diagonally Dominant\")\n",
    "        gaussSeidel(A, y)\n",
    "    \n",
    "    else:\n",
    "\n",
    "        print(\"Not Diagonally Dominant\\n\")\n"
   ]
  },
  {
   "cell_type": "code",
   "execution_count": 6,
   "metadata": {},
   "outputs": [],
   "source": [
    "x = [0.0, 0.18518518518518517, 0.37037037037037035, 0.5555555555555556, 0.7407407407407407, 0.9259259259259258, 1.1111111111111112, 1.2962962962962963, 1.4814814814814814, 1.6666666666666665, 1.8518518518518516, 2.0370370370370368, 2.2222222222222223, 2.4074074074074074, 2.5925925925925926, 2.7777777777777777, 2.962962962962963, 3.148148148148148, 3.333333333333333, 3.518518518518518, 3.7037037037037033, 3.888888888888889, 4.0740740740740735, 4.259259259259259, 4.444444444444445, 4.62962962962963, 4.814814814814815, 5.0, 5.185185185185185, 5.37037037037037, 5.555555555555555, 5.7407407407407405, 5.925925925925926, 6.111111111111111, 6.296296296296296, 6.481481481481481, 6.666666666666666, 6.851851851851851, 7.037037037037036, 7.222222222222221, 7.4074074074074066, 7.592592592592593, 7.777777777777778, 7.962962962962963, 8.148148148148147, 8.333333333333332, 8.518518518518517, 8.703703703703702, 8.88888888888889, 9.074074074074074, 9.25925925925926, 9.444444444444445, 9.62962962962963, 9.814814814814815, 10.0]\n",
    "y = [5.0, 1.2520118747757103, 1.4283946914705046, 1.6345721432126437, 2.340542748504784, 2.534235172350111, 2.809542875143581, 2.432153511154817, 16.64077129276094, 4.195684683672057, 4.480399371041203, 3.3414451294453005, 4.648159158448864, 4.767541772944962, 4.153353551052961, 3.8376254577313977, 34.29483326462008, 6.5382930753157655, 7.122615919464015, 7.613658319030144, 5.0264817991276, 8.724542591863344, 6.879236183614996, 6.5661439096861365, 42.994210095037346, 6.598437137290245, 9.231185870739294, 8.953680434204669, 6.49911755755554, 9.26952642921179, 10.881720182226427, 12.380371866665053, 59.534625317319616, 7.265107384196875, 10.03240826437228, 10.087527395894845, 11.746528651076588, 13.173105264584581, 8.856577410944912, 11.28683973636473, 70.65294210481456, 14.941275669302778, 12.047581230442585, 11.23984812348515, 16.633307895772955, 14.272505106774162, 10.774298589509364, 16.516178106985617, 70.23871827301794, 16.697169401441016, 16.976111686545952, 18.494131727426122, 15.98499931886419, 12.250927336873376, 15.85720520845561]"
   ]
  },
  {
   "cell_type": "code",
   "execution_count": 7,
   "metadata": {},
   "outputs": [
    {
     "name": "stdout",
     "output_type": "stream",
     "text": [
      "m: 2.0925132686600083 c: 2.6398046980422905\n"
     ]
    },
    {
     "data": {
      "image/png": "[encoded data removed]",
      "text/plain": [
       "<Figure size 432x288 with 1 Axes>"
      ]
     },
     "metadata": {
      "needs_background": "light"
     },
     "output_type": "display_data"
    }
   ],
   "source": [
    "x = np.array(x)\n",
    "y = np.array(y)\n",
    "\n",
    "plt.plot(x, y, \"b.\", label = \"x y coordinates\")\n",
    "\n",
    "A = np.vstack([x, np.ones(len(x))]).T\n",
    "beta = np.dot(np.linalg.pinv(A), y)\n",
    "\n",
    "plt.plot(x, beta[0] * x + beta[1], \"r\", label = \"Least Square Regression\")\n",
    "plt.xlabel(\"x\")\n",
    "plt.ylabel(\"y\")\n",
    "plt.legend()\n",
    "\n",
    "print(f\"m: {beta[0]} c: {beta[1]}\")\n",
    "\n",
    "plt.show()"
   ]
  }
 ],
 "metadata": {
  "interpreter": {
   "hash": "ed46b3c836d4de0a15a59632044551f83d2160a7500ca109df78394da0e4f1cf"
  },
  "kernelspec": {
   "display_name": "Python 3.8.5 64-bit",
   "language": "python",
   "name": "python3"
  },
  "language_info": {
   "codemirror_mode": {
    "name": "ipython",
    "version": 3
   },
   "file_extension": ".py",
   "mimetype": "text/x-python",
   "name": "python",
   "nbconvert_exporter": "python",
   "pygments_lexer": "ipython3",
   "version": "3.10.2"
  },
  "orig_nbformat": 4
 },
 "nbformat": 4,
 "nbformat_minor": 2
}
